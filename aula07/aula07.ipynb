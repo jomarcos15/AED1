{
 "cells": [
  {
   "cell_type": "code",
   "execution_count": 3,
   "id": "3fc4dbbf-5112-4ba0-85dc-da3f240c3d1b",
   "metadata": {},
   "outputs": [
    {
     "name": "stdout",
     "output_type": "stream",
     "text": [
      "Ola!\n",
      "Ola!\n",
      "Ola!\n",
      "Ola!\n",
      "Ola!\n"
     ]
    }
   ],
   "source": [
    "print(\"Ola!\")\n",
    "print(\"Ola!\")\n",
    "print(\"Ola!\")\n",
    "print(\"Ola!\")\n",
    "print(\"Ola!\")"
   ]
  },
  {
   "cell_type": "code",
   "execution_count": 57,
   "id": "20d4902b-1399-4859-ad52-418be3760d14",
   "metadata": {},
   "outputs": [
    {
     "name": "stdout",
     "output_type": "stream",
     "text": [
      "Ola!\n",
      "Ola!\n",
      "Ola!\n",
      "Ola!\n",
      "Ola!\n"
     ]
    }
   ],
   "source": [
    "# repetição simples quando sei o numero de repetição\n",
    "for i in range(1,6):  \n",
    "    print(\"Ola!\")\n"
   ]
  },
  {
   "cell_type": "code",
   "execution_count": 45,
   "id": "7172e1a7-a7fc-4eb5-abfa-2e7a3e935eed",
   "metadata": {},
   "outputs": [
    {
     "name": "stdout",
     "output_type": "stream",
     "text": [
      "Ola\n",
      "Ola\n",
      "Ola\n",
      "Ola\n",
      "Ola\n"
     ]
    }
   ],
   "source": [
    "for _ in range(1,6) :\n",
    "    print(\"Ola\")\n"
   ]
  },
  {
   "cell_type": "code",
   "execution_count": 59,
   "id": "022c5583-b8e7-4b44-b43f-9ed4c45e7f84",
   "metadata": {},
   "outputs": [
    {
     "name": "stdout",
     "output_type": "stream",
     "text": [
      "F\n",
      "r\n",
      "a\n",
      "s\n",
      "e\n"
     ]
    }
   ],
   "source": [
    "# exibir cada \n",
    "for caracter in \"Frase\" :\n",
    "    print(caracter)"
   ]
  },
  {
   "cell_type": "code",
   "execution_count": 63,
   "id": "22b25e10-0c16-4db6-92f0-433cd832aa60",
   "metadata": {},
   "outputs": [
    {
     "name": "stdout",
     "output_type": "stream",
     "text": [
      "10\n",
      "9\n",
      "8\n",
      "7\n",
      "6\n",
      "5\n",
      "4\n",
      "3\n",
      "2\n",
      "1\n"
     ]
    }
   ],
   "source": [
    "#contagem regressiva\n",
    "for i in range(10, 0, -1):\n",
    "    print(i)\n"
   ]
  },
  {
   "cell_type": "code",
   "execution_count": 79,
   "id": "5413a547-0f9d-4627-b516-f66b922746e4",
   "metadata": {},
   "outputs": [
    {
     "name": "stdin",
     "output_type": "stream",
     "text": [
      "Digite o valor de n:  5\n"
     ]
    },
    {
     "name": "stdout",
     "output_type": "stream",
     "text": [
      "o fatorial de  5 é igual a 120\n"
     ]
    }
   ],
   "source": [
    "# Cálculo do Fatorial de um número\n",
    "\n",
    "n = int(input (\"Digite o valor de n: \"))\n",
    "fat = 1\n",
    "if n < 0 :\n",
    "    print(\"Fatorial não existe!\")\n",
    "elif n == 0 :\n",
    "    print(\"Fatorial de Zero igual a 1\")\n",
    "else:\n",
    "    for i in range (1, n+1) :\n",
    "        fat = fat * i\n",
    "print(\"o fatorial de \", n , \"é igual a\", fat)\n"
   ]
  },
  {
   "cell_type": "code",
   "execution_count": 81,
   "id": "94c44076-30b2-4168-b25e-f68f8655cbdc",
   "metadata": {},
   "outputs": [
    {
     "name": "stdin",
     "output_type": "stream",
     "text": [
      "Digite o valor de n:  9\n"
     ]
    },
    {
     "name": "stdout",
     "output_type": "stream",
     "text": [
      "O fatorial de 9 é igual a 362880\n"
     ]
    }
   ],
   "source": [
    "n = int(input(\"Digite o valor de n: \"))\n",
    "fat = 1\n",
    "if n < 0:\n",
    "    print(\"Fatorial não existe!\")\n",
    "elif n == 0:\n",
    "    print(\"Fatorial de Zero igual a 1\")\n",
    "else:\n",
    "    for i in range(1, n + 1):\n",
    "        fat = fat * i\n",
    "    print(\"O fatorial de\", n, \"é igual a\", fat)\n"
   ]
  },
  {
   "cell_type": "code",
   "execution_count": 91,
   "id": "ee05ca28-2dc0-43ec-9f89-a3daefabad59",
   "metadata": {},
   "outputs": [
    {
     "name": "stdin",
     "output_type": "stream",
     "text": [
      "Digite o numero:  6\n"
     ]
    },
    {
     "name": "stdout",
     "output_type": "stream",
     "text": [
      "1 x 6 = 6\n",
      "2 x 6 = 12\n",
      "3 x 6 = 18\n",
      "4 x 6 = 24\n",
      "5 x 6 = 30\n",
      "6 x 6 = 36\n",
      "7 x 6 = 42\n",
      "8 x 6 = 48\n",
      "9 x 6 = 54\n",
      "10 x 6 = 60\n"
     ]
    }
   ],
   "source": [
    "#tabuada\n",
    "n = int(input(\"Digite o numero: \"))\n",
    "i = 1\n",
    "while i < 11 :\n",
    "    print(i, \"x\", n, \"=\", i*n)\n",
    "    i = i + 1"
   ]
  },
  {
   "cell_type": "code",
   "execution_count": 107,
   "id": "229ee455-c0d4-4fcc-8087-1d339ea8e208",
   "metadata": {},
   "outputs": [
    {
     "name": "stdin",
     "output_type": "stream",
     "text": [
      "Entre com um valor <-1 para sair>:  89\n",
      "Entre com um valor <-1 para sair>:  40\n",
      "Entre com um valor <-1 para sair>:  -1\n"
     ]
    },
    {
     "name": "stdout",
     "output_type": "stream",
     "text": [
      "A media dos números é igual a:  64.5\n"
     ]
    }
   ],
   "source": [
    "soma = 0\n",
    "qtd = 0\n",
    "numero = 0\n",
    "while numero != -1 :\n",
    "     numero = int(input(\"Entre com um valor <-1 para sair>: \"))\n",
    "     if (numero != -1) :\n",
    "         soma = soma+numero\n",
    "         qtd = qtd+1\n",
    "media = soma / qtd\n",
    "print(\"A media dos números é igual a: \", media)\n"
   ]
  },
  {
   "cell_type": "code",
   "execution_count": 117,
   "id": "19eb2049-e090-4fa6-b693-78d7bddce3c8",
   "metadata": {
    "scrolled": true
   },
   "outputs": [
    {
     "name": "stdout",
     "output_type": "stream",
     "text": [
      "O ultimo valor de n é  0\n",
      "O ultimo valor de n é  1\n",
      "O ultimo valor de n é  2\n",
      "O ultimo valor de n é  3\n",
      "O ultimo valor de n é  4\n",
      "O ultimo valor de n é  5\n"
     ]
    }
   ],
   "source": [
    "#comando break\n",
    "n=0\n",
    "while True:\n",
    "    print(\"O ultimo valor de n é \", n)\n",
    "    n = n + 1\n",
    "    if n>5:\n",
    "        break"
   ]
  },
  {
   "cell_type": "code",
   "execution_count": 119,
   "id": "11fa95a2-03a1-47ef-98be-9e918e224ddf",
   "metadata": {},
   "outputs": [
    {
     "name": "stdout",
     "output_type": "stream",
     "text": [
      "O último valor de n é  1\n",
      "O último valor de n é  3\n",
      "O último valor de n é  5\n",
      "O último valor de n é  7\n",
      "O último valor de n é  9\n"
     ]
    }
   ],
   "source": [
    "#Comando Break\n",
    "n = 0\n",
    "while True:\n",
    "    if (n % 2) == 0:\n",
    "        n = n + 1\n",
    "        continue\n",
    "    print(\"O último valor de n é \", n)\n",
    "    n = n + 1\n",
    "    if n > 9:\n",
    "        break\n",
    "\n"
   ]
  },
  {
   "cell_type": "code",
   "execution_count": null,
   "id": "f1560f87-8662-403d-a2e7-d650ee23fbeb",
   "metadata": {},
   "outputs": [],
   "source": []
  }
 ],
 "metadata": {
  "kernelspec": {
   "display_name": "Python [conda env:base] *",
   "language": "python",
   "name": "conda-base-py"
  },
  "language_info": {
   "codemirror_mode": {
    "name": "ipython",
    "version": 3
   },
   "file_extension": ".py",
   "mimetype": "text/x-python",
   "name": "python",
   "nbconvert_exporter": "python",
   "pygments_lexer": "ipython3",
   "version": "3.12.7"
  }
 },
 "nbformat": 4,
 "nbformat_minor": 5
}
