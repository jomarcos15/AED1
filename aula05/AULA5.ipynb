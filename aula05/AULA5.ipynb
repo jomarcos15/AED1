{
 "cells": [
  {
   "cell_type": "code",
   "execution_count": 98,
   "id": "65e3fe1a-d68f-4b0a-b2b8-4ae11615e3c6",
   "metadata": {},
   "outputs": [],
   "source": [
    "from math import sqrt"
   ]
  },
  {
   "cell_type": "code",
   "execution_count": 1,
   "id": "c8b0b10a-a459-4d42-9383-1abc8fbe2c9a",
   "metadata": {},
   "outputs": [
    {
     "data": {
      "text/plain": [
       "17"
      ]
     },
     "execution_count": 1,
     "metadata": {},
     "output_type": "execute_result"
    }
   ],
   "source": [
    "10 + 5 * 2 - 3"
   ]
  },
  {
   "cell_type": "code",
   "execution_count": 5,
   "id": "0f0fb1d4-77d9-4109-aca6-84a394e9b2c2",
   "metadata": {},
   "outputs": [],
   "source": [
    "A=2\n",
    "B=6\n",
    "C=3\n",
    "D=4\n",
    "E=8\n",
    "F=4"
   ]
  },
  {
   "cell_type": "code",
   "execution_count": 17,
   "id": "a3210cd1-250b-47b3-af77-9378699e5d22",
   "metadata": {},
   "outputs": [],
   "source": [
    "X=(A+(B/C))/(D-(E/F))"
   ]
  },
  {
   "cell_type": "code",
   "execution_count": 126,
   "id": "5138aee7-1af2-4ec6-a38f-2adec69efde8",
   "metadata": {},
   "outputs": [
    {
     "name": "stdin",
     "output_type": "stream",
     "text": [
      "Digite o valor 1:  5\n",
      "Digite o valor 2:  6\n"
     ]
    }
   ],
   "source": [
    "r = int ( input(\"Digite o valor 1: \"))\n",
    "s = int ( input(\"Digite o valor 2: \"))"
   ]
  },
  {
   "cell_type": "code",
   "execution_count": 128,
   "id": "4e62fd7f-0559-4a62-ac8b-e546a606fc6f",
   "metadata": {},
   "outputs": [
    {
     "name": "stdout",
     "output_type": "stream",
     "text": [
      "A soma é:  11\n"
     ]
    }
   ],
   "source": [
    "print(\"A soma é: \", r+s)"
   ]
  },
  {
   "cell_type": "code",
   "execution_count": 139,
   "id": "4fe64284-0d8e-4507-8a7b-b8af5372f05e",
   "metadata": {},
   "outputs": [
    {
     "name": "stdout",
     "output_type": "stream",
     "text": [
      "2.0\n"
     ]
    }
   ],
   "source": [
    "A, B, C, D, E, F = 2, 6, 3, 4, 8, 4\n",
    "X = (A + B/C) / (D - E/F)\n",
    "print(X)\n"
   ]
  },
  {
   "cell_type": "code",
   "execution_count": 141,
   "id": "ed37c66a-8e9f-4707-8c6f-eb41ec2b2c03",
   "metadata": {},
   "outputs": [
    {
     "name": "stdout",
     "output_type": "stream",
     "text": [
      "-1.7834936490538904\n"
     ]
    }
   ],
   "source": [
    "import math\n",
    "\n",
    "X = 2\n",
    "Y = ((2*X**2 - 3*X**(X+1)) / 2 + math.sqrt(X+1)/X) / (2**X)\n",
    "print(Y)\n"
   ]
  },
  {
   "cell_type": "code",
   "execution_count": 149,
   "id": "8cefbe60-b401-4497-bd99-795ee7fe5d27",
   "metadata": {},
   "outputs": [],
   "source": [
    "x = 2"
   ]
  }
 ],
 "metadata": {
  "kernelspec": {
   "display_name": "Python [conda env:base] *",
   "language": "python",
   "name": "conda-base-py"
  },
  "language_info": {
   "codemirror_mode": {
    "name": "ipython",
    "version": 3
   },
   "file_extension": ".py",
   "mimetype": "text/x-python",
   "name": "python",
   "nbconvert_exporter": "python",
   "pygments_lexer": "ipython3",
   "version": "3.12.7"
  }
 },
 "nbformat": 4,
 "nbformat_minor": 5
}
