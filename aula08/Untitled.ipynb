{
 "cells": [
  {
   "cell_type": "code",
   "execution_count": 11,
   "id": "b27bd962-dd2c-4076-8af4-7747d4bbbb1e",
   "metadata": {},
   "outputs": [
    {
     "name": "stdin",
     "output_type": "stream",
     "text": [
      "Digite um número entre 1 e 50:  29\n"
     ]
    },
    {
     "name": "stdout",
     "output_type": "stream",
     "text": [
      "Tente um número menor.\n"
     ]
    },
    {
     "name": "stdin",
     "output_type": "stream",
     "text": [
      "Digite um número entre 1 e 50:  25\n"
     ]
    },
    {
     "name": "stdout",
     "output_type": "stream",
     "text": [
      "Tente um número menor.\n"
     ]
    },
    {
     "name": "stdin",
     "output_type": "stream",
     "text": [
      "Digite um número entre 1 e 50:  15\n"
     ]
    },
    {
     "name": "stdout",
     "output_type": "stream",
     "text": [
      "Tente um número maior.\n"
     ]
    },
    {
     "name": "stdin",
     "output_type": "stream",
     "text": [
      "Digite um número entre 1 e 50:  20\n"
     ]
    },
    {
     "name": "stdout",
     "output_type": "stream",
     "text": [
      "Parabéns! Você acertou!\n"
     ]
    }
   ],
   "source": [
    "import random\n",
    "\n",
    "numero_aleatorio = random.randint(1, 50)\n",
    "\n",
    "while True:\n",
    "    try:\n",
    "        palpite = int(input(\"Digite um número entre 1 e 50: \"))\n",
    "        if palpite == numero_aleatorio:\n",
    "            print(\"Parabéns! Você acertou!\")\n",
    "            break\n",
    "        elif palpite < numero_aleatorio:\n",
    "            print(\"Tente um número maior.\")\n",
    "        else:\n",
    "            print(\"Tente um número menor.\")\n",
    "    except ValueError:\n",
    "        print(\"Entrada inválida! Digite um número inteiro.\")"
   ]
  },
  {
   "cell_type": "code",
   "execution_count": null,
   "id": "ea2cd481-be9d-47da-8685-f494c47d3401",
   "metadata": {},
   "outputs": [],
   "source": []
  }
 ],
 "metadata": {
  "kernelspec": {
   "display_name": "Python [conda env:base] *",
   "language": "python",
   "name": "conda-base-py"
  },
  "language_info": {
   "codemirror_mode": {
    "name": "ipython",
    "version": 3
   },
   "file_extension": ".py",
   "mimetype": "text/x-python",
   "name": "python",
   "nbconvert_exporter": "python",
   "pygments_lexer": "ipython3",
   "version": "3.12.7"
  }
 },
 "nbformat": 4,
 "nbformat_minor": 5
}
