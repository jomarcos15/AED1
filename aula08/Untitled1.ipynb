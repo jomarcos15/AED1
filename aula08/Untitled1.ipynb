{
 "cells": [
  {
   "cell_type": "code",
   "execution_count": 39,
   "id": "7f955a32-025c-4114-8c56-c46e9d7d0761",
   "metadata": {},
   "outputs": [],
   "source": [
    "#1. Importação da biblioteca\n",
    "from random import randint\n"
   ]
  },
  {
   "cell_type": "code",
   "execution_count": 5,
   "id": "79220a0d-7be8-49dc-a84a-6498f7042dd1",
   "metadata": {},
   "outputs": [],
   "source": [
    "#2. Gerando um número aleatório entre 1 e 50\n",
    "n = randint(1, 50)"
   ]
  },
  {
   "cell_type": "code",
   "execution_count": null,
   "id": "042d64f9-2df0-4df6-bcea-108dabdfd3a7",
   "metadata": {},
   "outputs": [],
   "source": [
    "#3. Pedir um palpite ao usuário\n",
    "p = int(input(\"Digite um palpite <entre 1 e 50>: \"))\n"
   ]
  },
  {
   "cell_type": "code",
   "execution_count": null,
   "id": "6aec7b6e-4b53-49d5-8f3c-a256d524cdac",
   "metadata": {},
   "outputs": [],
   "source": [
    "#4. Verificando se o palpite está correto\n",
    "if p == n:\n",
    "    print(\"Parabéns! Você acertou.\")\n",
    "elif p < n:\n",
    "    print(\"Seu palpite é muito baixo.\")\n",
    "else:\n",
    "    print(\"Seu palpite é muito alto.\")\n",
    "    "
   ]
  },
  {
   "cell_type": "code",
   "execution_count": 53,
   "id": "bbd1e8ab-d16e-4eb7-bf4b-07cc6586bd41",
   "metadata": {},
   "outputs": [
    {
     "name": "stdin",
     "output_type": "stream",
     "text": [
      "Digite um palpite <entre 1 e 50>:  50\n"
     ]
    },
    {
     "name": "stdout",
     "output_type": "stream",
     "text": [
      "Seu palpite é muito alto.\n"
     ]
    },
    {
     "name": "stdin",
     "output_type": "stream",
     "text": [
      "Digite um palpite <entre 1 e 50>:  25\n"
     ]
    },
    {
     "name": "stdout",
     "output_type": "stream",
     "text": [
      "Seu palpite é muito baixo.\n"
     ]
    },
    {
     "name": "stdin",
     "output_type": "stream",
     "text": [
      "Digite um palpite <entre 1 e 50>:  40\n"
     ]
    },
    {
     "name": "stdout",
     "output_type": "stream",
     "text": [
      "Parabéns! Você acertou.\n"
     ]
    }
   ],
   "source": [
    "#5. Juntar tudo em um loop\n",
    "\n",
    "from random import randint\n",
    "\n",
    "n = randint(1, 50)\n",
    "\n",
    "while True:\n",
    "    \n",
    "    p = int(input(\"Digite um palpite <entre 1 e 50>: \"))\n",
    "    \n",
    "    if p == n:\n",
    "        print(\"Parabéns! Você acertou.\")\n",
    "        break\n",
    "    elif p < n:\n",
    "        print(\"Seu palpite é muito baixo.\")\n",
    "    else:\n",
    "        print(\"Seu palpite é muito alto.\")"
   ]
  },
  {
   "cell_type": "code",
   "execution_count": null,
   "id": "12e0fb03-334b-4ce7-8add-803d2e6ff28a",
   "metadata": {},
   "outputs": [],
   "source": [
    "#6. Aproximando o valor\n",
    "\n",
    "from random import randint\n",
    "\n",
    "while True:\n",
    "    n = randint(1, 50)\n",
    "\n",
    "    print(\"\\n=== JOGO DA ADIVINHAÇÃO ===\")\n",
    "    \n",
    "    while True:\n",
    "        try:\n",
    "            p = int(input(\"Digite um palpite <entre 1 e 50>: \"))\n",
    "            \n",
    "            if p < 1 or p > 50:\n",
    "                print(\"Número fora do intervalo! Tente entre 1 e 50.\")\n",
    "                continue\n",
    "\n",
    "            if p == n:\n",
    "                print(\"Parabéns! Você acertou.\")\n",
    "                break\n",
    "            elif p < n:\n",
    "                print(\"Seu palpite é muito baixo.\")\n",
    "            else:\n",
    "                print(\"Seu palpite é muito alto.\")\n",
    "        except ValueError:\n",
    "            print(\"Entrada inválida! Digite um número inteiro.\")\n",
    "\n",
    "    # Pergunta se quer jogar novamente\n",
    "    jogar_novamente = input(\"Deseja jogar novamente? (s/n): \").strip().lower()\n",
    "    if jogar_novamente != 's':\n",
    "        print(\"Obrigado por jogar! Até a próxima.\")\n",
    "        break\n"
   ]
  },
  {
   "cell_type": "code",
   "execution_count": null,
   "id": "8664d81f-7829-4202-922d-c2c4b9917006",
   "metadata": {},
   "outputs": [
    {
     "name": "stdout",
     "output_type": "stream",
     "text": [
      "\n",
      "=== JOGO DA ADIVINHAÇÃO ===\n"
     ]
    },
    {
     "name": "stdin",
     "output_type": "stream",
     "text": [
      "Digite um palpite <entre 1 e 50>:  29\n"
     ]
    },
    {
     "name": "stdout",
     "output_type": "stream",
     "text": [
      "Seu palpite é muito baixo.\n"
     ]
    },
    {
     "name": "stdin",
     "output_type": "stream",
     "text": [
      "Digite um palpite <entre 1 e 50>:  40\n"
     ]
    },
    {
     "name": "stdout",
     "output_type": "stream",
     "text": [
      "Seu palpite é muito baixo.\n"
     ]
    },
    {
     "name": "stdin",
     "output_type": "stream",
     "text": [
      "Digite um palpite <entre 1 e 50>:  45\n"
     ]
    },
    {
     "name": "stdout",
     "output_type": "stream",
     "text": [
      "Seu palpite é muito alto.\n"
     ]
    },
    {
     "name": "stdin",
     "output_type": "stream",
     "text": [
      "Digite um palpite <entre 1 e 50>:  42\n"
     ]
    },
    {
     "name": "stdout",
     "output_type": "stream",
     "text": [
      "Parabéns! Você acertou.\n"
     ]
    },
    {
     "name": "stdin",
     "output_type": "stream",
     "text": [
      "Deseja jogar novamente? (s/n):  s\n"
     ]
    },
    {
     "name": "stdout",
     "output_type": "stream",
     "text": [
      "\n",
      "=== JOGO DA ADIVINHAÇÃO ===\n"
     ]
    }
   ],
   "source": [
    "#7. Jogar novamente\n",
    "\n",
    "from random import randint\n",
    "\n",
    "while True:\n",
    "    n = randint(1, 50)\n",
    "\n",
    "    print(\"\\n=== JOGO DA ADIVINHAÇÃO ===\")\n",
    "    \n",
    "    while True:\n",
    "        try:\n",
    "            p = int(input(\"Digite um palpite <entre 1 e 50>: \"))\n",
    "            \n",
    "            if p < 1 or p > 50:\n",
    "                print(\"Número fora do intervalo! Tente entre 1 e 50.\")\n",
    "                continue\n",
    "\n",
    "            if p == n:\n",
    "                print(\"Parabéns! Você acertou.\")\n",
    "                break\n",
    "            elif p < n:\n",
    "                print(\"Seu palpite é muito baixo.\")\n",
    "            else:\n",
    "                print(\"Seu palpite é muito alto.\")\n",
    "        except ValueError:\n",
    "            print(\"Entrada inválida! Digite um número inteiro.\")\n",
    "\n",
    "    # Pergunta se quer jogar novamente\n",
    "    jogar_novamente = input(\"Deseja jogar novamente? (s/n): \").strip().lower()\n",
    "    if jogar_novamente != 's':\n",
    "        print(\"Obrigado por jogar! Até a próxima.\")\n",
    "        break\n"
   ]
  },
  {
   "cell_type": "code",
   "execution_count": null,
   "id": "d44768c3-fa24-4b8b-bf83-0f36449caa31",
   "metadata": {},
   "outputs": [],
   "source": []
  }
 ],
 "metadata": {
  "kernelspec": {
   "display_name": "Python [conda env:base] *",
   "language": "python",
   "name": "conda-base-py"
  },
  "language_info": {
   "codemirror_mode": {
    "name": "ipython",
    "version": 3
   },
   "file_extension": ".py",
   "mimetype": "text/x-python",
   "name": "python",
   "nbconvert_exporter": "python",
   "pygments_lexer": "ipython3",
   "version": "3.12.7"
  }
 },
 "nbformat": 4,
 "nbformat_minor": 5
}
