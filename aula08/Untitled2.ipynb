{
 "cells": [
  {
   "cell_type": "code",
   "execution_count": null,
   "id": "7d0becaf-737d-4ea1-8158-174b2ad9f26e",
   "metadata": {},
   "outputs": [],
   "source": [
    "from random import randint\n",
    "\n",
    "n = randint(1, 50)\n",
    "\n",
    "while True:\n",
    "    \n",
    "    while True:\n",
    "        p = int(input(\"Digite um palpite <entre 1 e 50>: \"))  \n",
    "            if p == n:\n",
    "            print(\"Parabéns! Você acertou.\")\n",
    "            break\n",
    "        elif p < n:\n",
    "            print(\"Seu palpite é muito baixo.\")\n",
    "        else:\n",
    "            print(\"Seu palpite é muito alto.\")"
   ]
  },
  {
   "cell_type": "code",
   "execution_count": null,
   "id": "5c4b06ba-adae-4835-94a0-764d138d0222",
   "metadata": {},
   "outputs": [],
   "source": []
  }
 ],
 "metadata": {
  "kernelspec": {
   "display_name": "Python [conda env:base] *",
   "language": "python",
   "name": "conda-base-py"
  },
  "language_info": {
   "codemirror_mode": {
    "name": "ipython",
    "version": 3
   },
   "file_extension": ".py",
   "mimetype": "text/x-python",
   "name": "python",
   "nbconvert_exporter": "python",
   "pygments_lexer": "ipython3",
   "version": "3.12.7"
  }
 },
 "nbformat": 4,
 "nbformat_minor": 5
}
